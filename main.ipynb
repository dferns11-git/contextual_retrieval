{
 "cells": [
  {
   "cell_type": "code",
   "execution_count": 7,
   "metadata": {},
   "outputs": [],
   "source": [
    "import os\n",
    "from dotenv import load_dotenv\n",
    "\n",
    "# Load environment variables from .env file\n",
    "load_dotenv()\n",
    "\n",
    "# Get the API key from the environment variable\n",
    "api_key = os.getenv(\"OPENAI_API_KEY\")"
   ]
  },
  {
   "cell_type": "code",
   "execution_count": 2,
   "metadata": {},
   "outputs": [],
   "source": [
    "import os\n",
    "from langchain.prompts import ChatPromptTemplate, PromptTemplate, HumanMessagePromptTemplate\n",
    "from langchain_openai import ChatOpenAI\n",
    "from langchain_core.output_parsers import StrOutputParser"
   ]
  },
  {
   "cell_type": "code",
   "execution_count": 3,
   "metadata": {},
   "outputs": [],
   "source": [
    "# Input text for the knowledge base\n",
    "input_text = \"\"\"Berlin is the capital and largest city of Germany, both by area and by population.\n",
    "Its more than 3.85 million inhabitants make it the European Union's most populous city, as measured by population within city limits.\n",
    "The city is also one of the states of Germany and is the third smallest state in the country in terms of area.\n",
    "Paris is the capital and most populous city of France.\n",
    "It is situated along the Seine River in the north-central part of the country.\n",
    "The city has a population of over 2.1 million residents within its administrative limits, making it one of Europe's major population centers.\"\"\"\n",
    "\n",
    "# Splitting the input text into smaller chunks\n",
    "test_chunks = [\n",
    "    'Berlin is the capital and largest city of Germany, both by area and by population.',\n",
    "    \"\\n\\nIts more than 3.85 million inhabitants make it the European Union's most populous city, as measured by population within city limits.\",\n",
    "    '\\n\\nThe city is also one of the states of Germany and is the third smallest state in the country in terms of area.',\n",
    "    '\\n\\n# Paris is the capital and most populous city of France.',\n",
    "    '\\n\\n# It is situated along the Seine River in the north-central part of the country.',\n",
    "    \"\\n\\n# The city has a population of over 2.1 million residents within its administrative limits, making it one of Europe's major population centers.\"\n",
    "]"
   ]
  },
  {
   "cell_type": "code",
   "execution_count": 4,
   "metadata": {},
   "outputs": [],
   "source": [
    "# Define the prompt for generating contextual information\n",
    "anthropic_contextual_retrieval_system_prompt = \"\"\"<document>\n",
    "{WHOLE_DOCUMENT}\n",
    "</document>\n",
    "Here is the chunk we want to situate within the whole document\n",
    "<chunk>\n",
    "{CHUNK_CONTENT}\n",
    "</chunk>\n",
    "Please give a short succinct context to situate this chunk within the overall document for the purposes of improving search retrieval of the chunk. Answer only with the succinct context and nothing else.\"\"\"\n",
    "\n",
    "# Create a PromptTemplate for WHOLE_DOCUMENT and CHUNK_CONTENT\n",
    "anthropic_prompt_template = PromptTemplate(\n",
    "    input_variables=['WHOLE_DOCUMENT', 'CHUNK_CONTENT'],\n",
    "    template=anthropic_contextual_retrieval_system_prompt\n",
    ")\n",
    "\n",
    "# Wrap the prompt in a HumanMessagePromptTemplate\n",
    "human_message_prompt = HumanMessagePromptTemplate(prompt=anthropic_prompt_template)\n",
    "\n",
    "# Create the final ChatPromptTemplate\n",
    "anthropic_contextual_retrieval_final_prompt = ChatPromptTemplate(\n",
    "    input_variables=['WHOLE_DOCUMENT', 'CHUNK_CONTENT'],\n",
    "    messages=[human_message_prompt]\n",
    ")"
   ]
  },
  {
   "cell_type": "code",
   "execution_count": 5,
   "metadata": {},
   "outputs": [],
   "source": [
    "# Initialize the model instance\n",
    "llm_model_instance = ChatOpenAI(\n",
    "    model=\"gpt-4o\",\n",
    ")"
   ]
  },
  {
   "cell_type": "code",
   "execution_count": 6,
   "metadata": {},
   "outputs": [
    {
     "name": "stdout",
     "output_type": "stream",
     "text": [
      "Berlin is the capital and largest city of Germany, notable for its population and status within the EU, and is also a German state.\n",
      "-----\n",
      "Berlin, the capital and largest city of Germany, is the European Union's most populous city by population within city limits.\n",
      "-----\n",
      "Berlin, the capital and largest city of Germany, is also one of the states of Germany.\n",
      "-----\n",
      "The document compares Berlin and Paris as major European capitals, noting their population sizes and geographic details.\n",
      "-----\n",
      "Paris is the capital and most populous city of France.\n",
      "-----\n",
      "Paris is the capital and most populous city of France.\n",
      "-----\n"
     ]
    }
   ],
   "source": [
    "# Chain the prompt with the model instance\n",
    "contextual_chunk_creation = anthropic_contextual_retrieval_final_prompt | llm_model_instance | StrOutputParser()\n",
    "\n",
    "# Process each chunk and generate contextual information\n",
    "results = []\n",
    "for test_chunk in test_chunks:\n",
    "    res = contextual_chunk_creation.invoke({\n",
    "        \"WHOLE_DOCUMENT\": input_text,\n",
    "        \"CHUNK_CONTENT\": test_chunk\n",
    "    })\n",
    "    results.append(res)\n",
    "    print(res)\n",
    "    print('-----')"
   ]
  }
 ],
 "metadata": {
  "kernelspec": {
   "display_name": "Python 3",
   "language": "python",
   "name": "python3"
  },
  "language_info": {
   "codemirror_mode": {
    "name": "ipython",
    "version": 3
   },
   "file_extension": ".py",
   "mimetype": "text/x-python",
   "name": "python",
   "nbconvert_exporter": "python",
   "pygments_lexer": "ipython3",
   "version": "3.11.8"
  }
 },
 "nbformat": 4,
 "nbformat_minor": 2
}
